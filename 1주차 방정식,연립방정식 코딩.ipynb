{
  "nbformat": 4,
  "nbformat_minor": 0,
  "metadata": {
    "colab": {
      "provenance": [],
      "include_colab_link": true
    },
    "kernelspec": {
      "name": "python3",
      "display_name": "Python 3"
    },
    "language_info": {
      "name": "python"
    }
  },
  "cells": [
    {
      "cell_type": "markdown",
      "metadata": {
        "id": "view-in-github",
        "colab_type": "text"
      },
      "source": [
        "<a href=\"https://colab.research.google.com/github/jimmyjims88/computermath/blob/%EC%BD%94%EB%94%A9%EC%8B%A4%EC%8A%B5/1%EC%A3%BC%EC%B0%A8%20%EB%B0%A9%EC%A0%95%EC%8B%9D%2C%EC%97%B0%EB%A6%BD%EB%B0%A9%EC%A0%95%EC%8B%9D%20%EC%BD%94%EB%94%A9.ipynb\" target=\"_parent\"><img src=\"https://colab.research.google.com/assets/colab-badge.svg\" alt=\"Open In Colab\"/></a>"
      ]
    },
    {
      "cell_type": "code",
      "execution_count": 4,
      "metadata": {
        "colab": {
          "base_uri": "https://localhost:8080/"
        },
        "id": "FC8umkFFrOuN",
        "outputId": "ec982ee0-d012-4c47-b8d1-1534d6eb4277"
      },
      "outputs": [
        {
          "output_type": "stream",
          "name": "stdout",
          "text": [
            "3\n",
            "3 4 5\n"
          ]
        }
      ],
      "source": [
        "a = 3 #변수 표현 코딩\n",
        "\n",
        "print(a)\n",
        "\n",
        "b, c, d = 3, 4, 5\n",
        "\n",
        "print(b, c, d)"
      ]
    },
    {
      "cell_type": "code",
      "source": [
        "from sympy import Symbol, solve #방정식  코딩\n",
        "x = Symbol('x')\n",
        "\n",
        "equation = 2 * x - 4\n",
        "\n",
        "solve(equation)"
      ],
      "metadata": {
        "id": "v1gfOMTrrs-c",
        "outputId": "39b862ee-f92d-483e-e963-ff7c4ee29570",
        "colab": {
          "base_uri": "https://localhost:8080/"
        }
      },
      "execution_count": 5,
      "outputs": [
        {
          "output_type": "execute_result",
          "data": {
            "text/plain": [
              "[2]"
            ]
          },
          "metadata": {},
          "execution_count": 5
        }
      ]
    },
    {
      "cell_type": "code",
      "source": [
        "from sympy import Symbol, solve #방정식 코딩 연습\n",
        "x = Symbol('x')\n",
        "\n",
        "equation = x - 6\n",
        "\n",
        "solve(equation)\n"
      ],
      "metadata": {
        "id": "Shf4zjeTkbJ1",
        "outputId": "b25c9a08-9245-429c-efeb-df4231e2a4ea",
        "colab": {
          "base_uri": "https://localhost:8080/"
        }
      },
      "execution_count": 9,
      "outputs": [
        {
          "output_type": "execute_result",
          "data": {
            "text/plain": [
              "[6]"
            ]
          },
          "metadata": {},
          "execution_count": 9
        }
      ]
    },
    {
      "cell_type": "code",
      "source": [
        "equation = 2 * x - 10\n",
        "\n",
        "solve(equation)"
      ],
      "metadata": {
        "id": "JzjXt3qgkg-D",
        "outputId": "0205c0de-2ea0-44ad-91ea-a4178edf1d48",
        "colab": {
          "base_uri": "https://localhost:8080/"
        }
      },
      "execution_count": 10,
      "outputs": [
        {
          "output_type": "execute_result",
          "data": {
            "text/plain": [
              "[5]"
            ]
          },
          "metadata": {},
          "execution_count": 10
        }
      ]
    },
    {
      "cell_type": "code",
      "source": [
        "equation = x / 2 - 8\n",
        "\n",
        "solve(equation)"
      ],
      "metadata": {
        "id": "yktp4CDAkrwF",
        "outputId": "745d0f69-fbdd-41a2-c12e-d1bfad09a287",
        "colab": {
          "base_uri": "https://localhost:8080/"
        }
      },
      "execution_count": 11,
      "outputs": [
        {
          "output_type": "execute_result",
          "data": {
            "text/plain": [
              "[16]"
            ]
          },
          "metadata": {},
          "execution_count": 11
        }
      ]
    },
    {
      "cell_type": "code",
      "source": [
        "from sympy import Symbol, solve #연립방정식 코딩\n",
        "x = Symbol('x')\n",
        "y = Symbol('y')\n",
        "\n",
        "equation1 = 3 * x + y - 2\n",
        "equation2 = x - 2 * y - 3\n",
        "\n",
        "solve((equation1, equation2))"
      ],
      "metadata": {
        "id": "M2YDSo90ktQq",
        "outputId": "d3badf6f-d6cc-436a-b436-de243baa3612",
        "colab": {
          "base_uri": "https://localhost:8080/"
        }
      },
      "execution_count": 12,
      "outputs": [
        {
          "output_type": "execute_result",
          "data": {
            "text/plain": [
              "{x: 1, y: -1}"
            ]
          },
          "metadata": {},
          "execution_count": 12
        }
      ]
    },
    {
      "cell_type": "code",
      "source": [
        "from sympy import Symbol, solve #연립방정식 코딩 연습\n",
        "x = Symbol('x')\n",
        "y = Symbol('y')\n",
        "\n",
        "equation1 = x + 2 * y - 6\n",
        "equation2 = 3 * x - y + 3\n",
        "\n",
        "solve((equation1, equation2))"
      ],
      "metadata": {
        "id": "4LFBSMW0k0GC",
        "outputId": "afdb6d63-f073-4524-d762-72c007767f58",
        "colab": {
          "base_uri": "https://localhost:8080/"
        }
      },
      "execution_count": 13,
      "outputs": [
        {
          "output_type": "execute_result",
          "data": {
            "text/plain": [
              "{x: 0, y: 3}"
            ]
          },
          "metadata": {},
          "execution_count": 13
        }
      ]
    },
    {
      "cell_type": "code",
      "source": [],
      "metadata": {
        "id": "AagF3m32k6a7"
      },
      "execution_count": null,
      "outputs": []
    }
  ]
}