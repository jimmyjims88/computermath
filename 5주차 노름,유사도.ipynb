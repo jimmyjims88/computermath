{
  "nbformat": 4,
  "nbformat_minor": 0,
  "metadata": {
    "colab": {
      "provenance": [],
      "include_colab_link": true
    },
    "kernelspec": {
      "name": "python3",
      "display_name": "Python 3"
    },
    "language_info": {
      "name": "python"
    }
  },
  "cells": [
    {
      "cell_type": "markdown",
      "metadata": {
        "id": "view-in-github",
        "colab_type": "text"
      },
      "source": [
        "<a href=\"https://colab.research.google.com/github/jimmyjims88/computermath/blob/%EC%BD%94%EB%94%A9%EC%8B%A4%EC%8A%B5/5%EC%A3%BC%EC%B0%A8%20%EB%85%B8%EB%A6%84%2C%EC%9C%A0%EC%82%AC%EB%8F%84.ipynb\" target=\"_parent\"><img src=\"https://colab.research.google.com/assets/colab-badge.svg\" alt=\"Open In Colab\"/></a>"
      ]
    },
    {
      "cell_type": "code",
      "source": [
        "import torch #L1 노름의 코드 표현 실습"
      ],
      "metadata": {
        "id": "XoD-YGwaG3hg"
      },
      "execution_count": 4,
      "outputs": []
    },
    {
      "cell_type": "code",
      "source": [
        "a = torch.tensor([4, 3], dtype = torch.float32)\n",
        "\n",
        "l1_norm = torch.norm(a, p = 1)\n",
        "\n",
        "print(l1_norm)"
      ],
      "metadata": {
        "colab": {
          "base_uri": "https://localhost:8080/"
        },
        "id": "Ry5YpdEbG8OE",
        "outputId": "1c112387-9455-45c1-d950-b44f1c9b3337"
      },
      "execution_count": 5,
      "outputs": [
        {
          "output_type": "stream",
          "name": "stdout",
          "text": [
            "tensor(7.)\n"
          ]
        }
      ]
    },
    {
      "cell_type": "code",
      "source": [
        "import torch #L2 노름의 코드 표현 실습"
      ],
      "metadata": {
        "id": "X6DUTo7MRNZB"
      },
      "execution_count": 2,
      "outputs": []
    },
    {
      "cell_type": "code",
      "source": [
        "a = torch.tensor([4, 3], dtype = torch.float32)\n",
        "\n",
        "l2_norm = torch.norm(a, p = 2)\n",
        "\n",
        "print(l2_norm)"
      ],
      "metadata": {
        "id": "cj4zkrBERPho",
        "outputId": "bae9080e-4661-4b9d-9a16-15d39ed513d8",
        "colab": {
          "base_uri": "https://localhost:8080/"
        }
      },
      "execution_count": 3,
      "outputs": [
        {
          "output_type": "stream",
          "name": "stdout",
          "text": [
            "tensor(5.)\n"
          ]
        }
      ]
    },
    {
      "cell_type": "code",
      "source": [
        "import torch #L∞ 노름 코드 표현 실습URL링크"
      ],
      "metadata": {
        "id": "sDP4J9FzRP3G"
      },
      "execution_count": 6,
      "outputs": []
    },
    {
      "cell_type": "code",
      "source": [
        "a = torch.tensor([4, 3], dtype = torch.float32)\n",
        "\n",
        "linf_norm = torch.norm(a, p = float('inf'))\n",
        "\n",
        "print(linf_norm)"
      ],
      "metadata": {
        "id": "RSGpxYfJRe74",
        "outputId": "af9c2d48-a911-46b5-ffdc-6bba1bafa202",
        "colab": {
          "base_uri": "https://localhost:8080/"
        }
      },
      "execution_count": 7,
      "outputs": [
        {
          "output_type": "stream",
          "name": "stdout",
          "text": [
            "tensor(4.)\n"
          ]
        }
      ]
    },
    {
      "cell_type": "code",
      "source": [
        "import torch #맨해튼 유사도의 코드 표현 실습URL링크"
      ],
      "metadata": {
        "id": "lBA3HsxiRfVb"
      },
      "execution_count": 9,
      "outputs": []
    },
    {
      "cell_type": "code",
      "source": [
        "b = torch.tensor([1, 0, 2], dtype = torch.float32)\n",
        "c = torch.tensor([0, 1, 2], dtype = torch.float32)\n",
        "\n",
        "manhattan_distance = torch.norm(b - c, p = 1)\n",
        "\n",
        "print(manhattan_distance)"
      ],
      "metadata": {
        "id": "iAlsBPcWRk59",
        "outputId": "c92df84b-5947-4ba9-8f69-72512d5b7850",
        "colab": {
          "base_uri": "https://localhost:8080/"
        }
      },
      "execution_count": 10,
      "outputs": [
        {
          "output_type": "stream",
          "name": "stdout",
          "text": [
            "tensor(2.)\n"
          ]
        }
      ]
    },
    {
      "cell_type": "code",
      "source": [
        "manhattan_similarity = 1 / (1 + manhattan_distance)\n",
        "print(manhattan_similarity)"
      ],
      "metadata": {
        "id": "MMedcAYFRlTd",
        "outputId": "0077be4c-c7dd-45db-b403-1a84d8602122",
        "colab": {
          "base_uri": "https://localhost:8080/"
        }
      },
      "execution_count": 11,
      "outputs": [
        {
          "output_type": "stream",
          "name": "stdout",
          "text": [
            "tensor(0.3333)\n"
          ]
        }
      ]
    },
    {
      "cell_type": "code",
      "source": [
        "import torch #유클리드 유사도의 코드 표현 실습URL링크"
      ],
      "metadata": {
        "id": "Gd8aVRVvRmhl"
      },
      "execution_count": 13,
      "outputs": []
    },
    {
      "cell_type": "code",
      "source": [
        "b = torch.tensor([1, 0, 2], dtype = torch.float32)\n",
        "c = torch.tensor([0, 1, 2], dtype = torch.float32)\n",
        "\n",
        "euclidean_distance = torch.norm(b - c, p = 2)\n",
        "\n",
        "print(euclidean_distance)"
      ],
      "metadata": {
        "id": "l2Vur3ZsRsZk",
        "outputId": "ce43abae-35dc-4fb8-a633-313ce63f12a7",
        "colab": {
          "base_uri": "https://localhost:8080/"
        }
      },
      "execution_count": 14,
      "outputs": [
        {
          "output_type": "stream",
          "name": "stdout",
          "text": [
            "tensor(1.4142)\n"
          ]
        }
      ]
    },
    {
      "cell_type": "code",
      "source": [
        "euclidean_simlilarity = 1 / (1 + euclidean_distance)\n",
        "print(euclidean_simlilarity)"
      ],
      "metadata": {
        "id": "EuoDJWroRtmN",
        "outputId": "1037389e-bde4-46df-ba81-af199c835090",
        "colab": {
          "base_uri": "https://localhost:8080/"
        }
      },
      "execution_count": 15,
      "outputs": [
        {
          "output_type": "stream",
          "name": "stdout",
          "text": [
            "tensor(0.4142)\n"
          ]
        }
      ]
    },
    {
      "cell_type": "code",
      "source": [
        "import torch #코사인 유사도의 코드 표현 실습URL링크"
      ],
      "metadata": {
        "id": "lhjwlhjYRust"
      },
      "execution_count": 16,
      "outputs": []
    },
    {
      "cell_type": "code",
      "source": [
        "b = torch.tensor([1, 0, 2], dtype = torch.float32)\n",
        "c = torch.tensor([0, 1, 2], dtype = torch.float32)\n",
        "\n",
        "dot_product = torch.dot(b, c)\n",
        "cosine_similarity = dot_product / (torch.norm(b, p = 2) * torch.norm(c, p = 2))\n",
        "\n",
        "print(cosine_similarity)"
      ],
      "metadata": {
        "id": "ckxrY3alRzSt",
        "outputId": "37e4d7a5-bafa-4c1d-d31c-77f7c91e1dc9",
        "colab": {
          "base_uri": "https://localhost:8080/"
        }
      },
      "execution_count": 17,
      "outputs": [
        {
          "output_type": "stream",
          "name": "stdout",
          "text": [
            "tensor(0.8000)\n"
          ]
        }
      ]
    },
    {
      "cell_type": "code",
      "source": [],
      "metadata": {
        "id": "bRHCBskxR0wZ"
      },
      "execution_count": null,
      "outputs": []
    }
  ]
}