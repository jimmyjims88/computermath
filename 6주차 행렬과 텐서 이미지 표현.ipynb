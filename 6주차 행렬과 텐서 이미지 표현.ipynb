{
  "nbformat": 4,
  "nbformat_minor": 0,
  "metadata": {
    "colab": {
      "provenance": [],
      "include_colab_link": true
    },
    "kernelspec": {
      "name": "python3",
      "display_name": "Python 3"
    },
    "language_info": {
      "name": "python"
    }
  },
  "cells": [
    {
      "cell_type": "markdown",
      "metadata": {
        "id": "view-in-github",
        "colab_type": "text"
      },
      "source": [
        "<a href=\"https://colab.research.google.com/github/jimmyjims88/computermath/blob/%EC%BD%94%EB%94%A9%EC%8B%A4%EC%8A%B5/6%EC%A3%BC%EC%B0%A8%20%ED%96%89%EB%A0%AC%EA%B3%BC%20%ED%85%90%EC%84%9C%20%EC%9D%B4%EB%AF%B8%EC%A7%80%20%ED%91%9C%ED%98%84.ipynb\" target=\"_parent\"><img src=\"https://colab.research.google.com/assets/colab-badge.svg\" alt=\"Open In Colab\"/></a>"
      ]
    },
    {
      "cell_type": "code",
      "source": [
        "import torch #행렬의 코드 표현 실습URL링크"
      ],
      "metadata": {
        "id": "7UFUXIesJBZi"
      },
      "execution_count": 1,
      "outputs": []
    },
    {
      "cell_type": "code",
      "source": [
        "a = torch.tensor([[1, 2],\n",
        "                  [3, 4]])\n",
        "\n",
        "print(a)"
      ],
      "metadata": {
        "colab": {
          "base_uri": "https://localhost:8080/"
        },
        "id": "8sa1TlVZJn8f",
        "outputId": "435ccfe5-fde3-46e9-9715-e9d7e891a385"
      },
      "execution_count": 2,
      "outputs": [
        {
          "output_type": "stream",
          "name": "stdout",
          "text": [
            "tensor([[1, 2],\n",
            "        [3, 4]])\n"
          ]
        }
      ]
    },
    {
      "cell_type": "code",
      "source": [
        "import torch    #행렬을 흑백 이미지로 변환하는 코드 표현 실습\n",
        "import matplotlib.pyplot as plt"
      ],
      "metadata": {
        "id": "M6auZ2AJ6X0X"
      },
      "execution_count": 3,
      "outputs": []
    },
    {
      "cell_type": "code",
      "source": [
        "b = torch.tensor([[1, 0, 0, 1, 0, 0, 1],\n",
        "                  [0, 1, 1, 0, 1, 1, 0],\n",
        "                  [0, 1, 1, 1, 1, 1, 0],\n",
        "                  [1, 0, 1, 1, 1, 0, 1],\n",
        "                  [1, 1, 0, 1, 0, 1, 1],\n",
        "                  [1, 1, 1, 0, 1, 1, 1]])\n",
        "\n",
        "print(b)"
      ],
      "metadata": {
        "id": "ib4Fvi2I6c1g",
        "outputId": "45b487d4-5957-4131-b56a-ea620b2a6bbf",
        "colab": {
          "base_uri": "https://localhost:8080/"
        }
      },
      "execution_count": 4,
      "outputs": [
        {
          "output_type": "stream",
          "name": "stdout",
          "text": [
            "tensor([[1, 0, 0, 1, 0, 0, 1],\n",
            "        [0, 1, 1, 0, 1, 1, 0],\n",
            "        [0, 1, 1, 1, 1, 1, 0],\n",
            "        [1, 0, 1, 1, 1, 0, 1],\n",
            "        [1, 1, 0, 1, 0, 1, 1],\n",
            "        [1, 1, 1, 0, 1, 1, 1]])\n"
          ]
        }
      ]
    },
    {
      "cell_type": "code",
      "source": [
        "plt.xticks([]), plt.yticks([])\n",
        "plt.imshow(b, cmap = 'gray')\n",
        "plt.show()"
      ],
      "metadata": {
        "id": "Yx3siUBh6eVx",
        "outputId": "cb30c9a2-12ec-424a-af98-66e30c69879b",
        "colab": {
          "base_uri": "https://localhost:8080/",
          "height": 406
        }
      },
      "execution_count": 5,
      "outputs": [
        {
          "output_type": "display_data",
          "data": {
            "text/plain": [
              "<Figure size 640x480 with 1 Axes>"
            ],
            "image/png": "[encoded data removed]"
          },
          "metadata": {}
        }
      ]
    },
    {
      "cell_type": "code",
      "source": [
        "import torch            #광원의 세기에 따른 흑백 이미지의 코드 표현 실습\n",
        "import matplotlib.pyplot as plt"
      ],
      "metadata": {
        "id": "0mgy3NCm6fzX"
      },
      "execution_count": 6,
      "outputs": []
    },
    {
      "cell_type": "code",
      "source": [
        "c = torch.tensor([[77, 114, 140, 191],\n",
        "                  [39, 56, 46, 119],\n",
        "                  [61, 20, 20, 33],\n",
        "                  [151, 97, 43, 26]])\n",
        "\n",
        "print(c)"
      ],
      "metadata": {
        "id": "vM0JfmwH6n9D",
        "outputId": "842c3205-69c0-48e4-9362-3c51e3e37407",
        "colab": {
          "base_uri": "https://localhost:8080/"
        }
      },
      "execution_count": 7,
      "outputs": [
        {
          "output_type": "stream",
          "name": "stdout",
          "text": [
            "tensor([[ 77, 114, 140, 191],\n",
            "        [ 39,  56,  46, 119],\n",
            "        [ 61,  20,  20,  33],\n",
            "        [151,  97,  43,  26]])\n"
          ]
        }
      ]
    },
    {
      "cell_type": "code",
      "source": [
        "plt.xticks([]), plt.yticks([])\n",
        "plt.imshow(c, cmap='gray', vmin=0, vmax=255)\n",
        "plt.show()"
      ],
      "metadata": {
        "id": "0Jg-kKwu6o4H",
        "outputId": "a730c8be-f62f-4f58-ba8d-74bc068ebf02",
        "colab": {
          "base_uri": "https://localhost:8080/",
          "height": 406
        }
      },
      "execution_count": 9,
      "outputs": [
        {
          "output_type": "display_data",
          "data": {
            "text/plain": [
              "<Figure size 640x480 with 1 Axes>"
            ],
            "image/png": "[encoded data removed]"
          },
          "metadata": {}
        }
      ]
    },
    {
      "cell_type": "code",
      "source": [
        "import torch        #3D 텐서를 컬러 이미지로 변환하는 코드 표현 실습\n",
        "import matplotlib.pyplot as plt"
      ],
      "metadata": {
        "id": "nVPSEfBj6v_g"
      },
      "execution_count": 10,
      "outputs": []
    },
    {
      "cell_type": "code",
      "source": [
        "red_channel = torch.tensor([[255, 0],\n",
        "                            [0, 255]])\n",
        "green_channel = torch.tensor([[0, 255],\n",
        "                             [0, 255]])\n",
        "blue_channel = torch.tensor([[0, 0],\n",
        "                             [255, 0]])\n",
        "\n",
        "d = torch.stack((red_channel, green_channel, blue_channel), 2)\n",
        "\n",
        "print(d)"
      ],
      "metadata": {
        "id": "0mDGprvL6w5I",
        "outputId": "e5eb3a53-2835-468e-ca04-e22e7fc962cc",
        "colab": {
          "base_uri": "https://localhost:8080/"
        }
      },
      "execution_count": 11,
      "outputs": [
        {
          "output_type": "stream",
          "name": "stdout",
          "text": [
            "tensor([[[255,   0,   0],\n",
            "         [  0, 255,   0]],\n",
            "\n",
            "        [[  0,   0, 255],\n",
            "         [255, 255,   0]]])\n"
          ]
        }
      ]
    },
    {
      "cell_type": "code",
      "source": [
        "plt.xticks([]), plt.yticks([])\n",
        "plt.imshow(d)\n",
        "plt.show()"
      ],
      "metadata": {
        "id": "cgQ0WWS-6yEQ",
        "outputId": "7d4b378d-d335-4744-9a5b-44586e91009b",
        "colab": {
          "base_uri": "https://localhost:8080/",
          "height": 406
        }
      },
      "execution_count": 12,
      "outputs": [
        {
          "output_type": "display_data",
          "data": {
            "text/plain": [
              "<Figure size 640x480 with 1 Axes>"
            ],
            "image/png": "[encoded data removed]"
          },
          "metadata": {}
        }
      ]
    },
    {
      "cell_type": "code",
      "source": [],
      "metadata": {
        "id": "tE47THvK6zVA"
      },
      "execution_count": null,
      "outputs": []
    }
  ]
}