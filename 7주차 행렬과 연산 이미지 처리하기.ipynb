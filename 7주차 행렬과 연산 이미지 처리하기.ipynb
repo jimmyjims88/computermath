{
  "nbformat": 4,
  "nbformat_minor": 0,
  "metadata": {
    "colab": {
      "provenance": [],
      "include_colab_link": true
    },
    "kernelspec": {
      "name": "python3",
      "display_name": "Python 3"
    },
    "language_info": {
      "name": "python"
    }
  },
  "cells": [
    {
      "cell_type": "markdown",
      "metadata": {
        "id": "view-in-github",
        "colab_type": "text"
      },
      "source": [
        "<a href=\"https://colab.research.google.com/github/jimmyjims88/computermath/blob/%EC%BD%94%EB%94%A9%EC%8B%A4%EC%8A%B5/7%EC%A3%BC%EC%B0%A8%20%ED%96%89%EB%A0%AC%EA%B3%BC%20%EC%97%B0%EC%82%B0%20%EC%9D%B4%EB%AF%B8%EC%A7%80%20%EC%B2%98%EB%A6%AC%ED%95%98%EA%B8%B0.ipynb\" target=\"_parent\"><img src=\"https://colab.research.google.com/assets/colab-badge.svg\" alt=\"Open In Colab\"/></a>"
      ]
    },
    {
      "cell_type": "code",
      "source": [
        "import torch                    #행렬의 합과 차를 활용한 이미지 처리 코드 표현 실습URL링크\n",
        "import matplotlib.pyplot as plt"
      ],
      "metadata": {
        "id": "70KzGpe0I7KB"
      },
      "execution_count": 1,
      "outputs": []
    },
    {
      "cell_type": "code",
      "source": [
        "a = torch.tensor([[0, 1, 1, 1, 0],\n",
        "                  [1, 1, 1, 1, 1],\n",
        "                  [0, 1, 0, 0, 0]])\n",
        "\n",
        "b = torch.tensor([[0, 0, 0, 0, 0],\n",
        "                  [0, 0, 0, 0, 0],\n",
        "                  [0, 0, 0, 1, 0]])\n",
        "\n",
        "c = torch.add(a, b)\n",
        "\n",
        "print(c)"
      ],
      "metadata": {
        "colab": {
          "base_uri": "https://localhost:8080/"
        },
        "id": "bcEuFd_OJH6w",
        "outputId": "9f686a57-dccd-456e-e5a9-0a315f02691d"
      },
      "execution_count": 2,
      "outputs": [
        {
          "output_type": "stream",
          "name": "stdout",
          "text": [
            "tensor([[0, 1, 1, 1, 0],\n",
            "        [1, 1, 1, 1, 1],\n",
            "        [0, 1, 0, 1, 0]])\n"
          ]
        }
      ]
    },
    {
      "cell_type": "code",
      "source": [
        "plt.xticks([]), plt.yticks([])\n",
        "plt.imshow(c, cmap = 'gray')\n",
        "plt.show()"
      ],
      "metadata": {
        "colab": {
          "base_uri": "https://localhost:8080/",
          "height": 334
        },
        "id": "zCozAYDdJ4lv",
        "outputId": "b4e49913-4a87-40b1-eb71-29a6ca9cd96f"
      },
      "execution_count": 3,
      "outputs": [
        {
          "output_type": "display_data",
          "data": {
            "text/plain": [
              "<Figure size 640x480 with 1 Axes>"
            ],
            "image/png": "[encoded data removed]"
          },
          "metadata": {}
        }
      ]
    },
    {
      "cell_type": "code",
      "source": [
        "import torch                #행렬의 스칼라곱을 활용한 이미지 처리 코드 표현 실습URL링크\n",
        "import matplotlib.pyplot as plt"
      ],
      "metadata": {
        "id": "fP--gP2UIreh"
      },
      "execution_count": 4,
      "outputs": []
    },
    {
      "cell_type": "code",
      "source": [
        "d = torch.tensor([[82, 54, 82],\n",
        "                  [54, 54, 54]])\n",
        "\n",
        "e = torch.mul(1/2, d)\n",
        "\n",
        "print(e)"
      ],
      "metadata": {
        "id": "kveAeragIzem",
        "outputId": "b6fd306d-49d3-4ae7-afb2-0fc201373508",
        "colab": {
          "base_uri": "https://localhost:8080/"
        }
      },
      "execution_count": 6,
      "outputs": [
        {
          "output_type": "stream",
          "name": "stdout",
          "text": [
            "tensor([[41., 27., 41.],\n",
            "        [27., 27., 27.]])\n"
          ]
        }
      ]
    },
    {
      "cell_type": "code",
      "source": [
        "plt.xticks([]), plt.yticks([])\n",
        "plt.imshow(d, cmap = 'gray', vmin = 0, vmax = 255)\n",
        "plt.show()"
      ],
      "metadata": {
        "id": "rB3tfoa1I0xg",
        "outputId": "9b61e091-4256-4e7d-8c88-96b7c299d4bf",
        "colab": {
          "base_uri": "https://localhost:8080/",
          "height": 367
        }
      },
      "execution_count": 7,
      "outputs": [
        {
          "output_type": "display_data",
          "data": {
            "text/plain": [
              "<Figure size 640x480 with 1 Axes>"
            ],
            "image/png": "[encoded data removed]"
          },
          "metadata": {}
        }
      ]
    },
    {
      "cell_type": "code",
      "source": [
        "import torch        #행렬의 곱셈에 대한 코드 표현 실습URL링크"
      ],
      "metadata": {
        "id": "BXNzEGfuI2_8"
      },
      "execution_count": 8,
      "outputs": []
    },
    {
      "cell_type": "code",
      "source": [
        "D = torch.tensor([[1, 1, 3],\n",
        "                  [4, 5, 6],\n",
        "                  [7, 8, 9]])\n",
        "\n",
        "E = torch.tensor([[1, 0],\n",
        "                  [1, -1],\n",
        "                  [2, 1]])\n",
        "\n",
        "D.matmul(E)"
      ],
      "metadata": {
        "id": "YkhmwAatI9FT",
        "outputId": "17df6873-2cc9-487c-e6af-f90c19cc2a76",
        "colab": {
          "base_uri": "https://localhost:8080/"
        }
      },
      "execution_count": 9,
      "outputs": [
        {
          "output_type": "execute_result",
          "data": {
            "text/plain": [
              "tensor([[ 8,  2],\n",
              "        [21,  1],\n",
              "        [33,  1]])"
            ]
          },
          "metadata": {},
          "execution_count": 9
        }
      ]
    },
    {
      "cell_type": "code",
      "source": [
        "D.mm(E)"
      ],
      "metadata": {
        "id": "WmlDrACvI-j-",
        "outputId": "14db31f9-ab8e-4844-fb66-181377d64e20",
        "colab": {
          "base_uri": "https://localhost:8080/"
        }
      },
      "execution_count": 10,
      "outputs": [
        {
          "output_type": "execute_result",
          "data": {
            "text/plain": [
              "tensor([[ 8,  2],\n",
              "        [21,  1],\n",
              "        [33,  1]])"
            ]
          },
          "metadata": {},
          "execution_count": 10
        }
      ]
    },
    {
      "cell_type": "code",
      "source": [
        "D@E"
      ],
      "metadata": {
        "id": "H6hHMF33I_pT",
        "outputId": "2c4effdc-6ddd-4b83-efd6-500b63392ad6",
        "colab": {
          "base_uri": "https://localhost:8080/"
        }
      },
      "execution_count": 11,
      "outputs": [
        {
          "output_type": "execute_result",
          "data": {
            "text/plain": [
              "tensor([[ 8,  2],\n",
              "        [21,  1],\n",
              "        [33,  1]])"
            ]
          },
          "metadata": {},
          "execution_count": 11
        }
      ]
    },
    {
      "cell_type": "code",
      "source": [
        "import torch        #흑백 이미지의 좌우로 대칭 이동의 코드 표현 실습URL링크\n",
        "import matplotlib.pyplot as plt"
      ],
      "metadata": {
        "id": "CHgrB8dkJAiC"
      },
      "execution_count": 12,
      "outputs": []
    },
    {
      "cell_type": "code",
      "source": [
        "G = torch.tensor([[255, 114, 140],\n",
        "                  [39, 255, 46],\n",
        "                  [61, 29, 255]])\n",
        "\n",
        "H = torch.tensor([[0, 0, 1],\n",
        "                  [0, 1, 0],\n",
        "                  [1, 0, 0]])\n",
        "\n",
        "I = G @ H\n",
        "print(I)"
      ],
      "metadata": {
        "id": "jz7G7XVtJIWC",
        "outputId": "61499e5d-046c-4453-e979-e99042ce800c",
        "colab": {
          "base_uri": "https://localhost:8080/"
        }
      },
      "execution_count": 13,
      "outputs": [
        {
          "output_type": "stream",
          "name": "stdout",
          "text": [
            "tensor([[140, 114, 255],\n",
            "        [ 46, 255,  39],\n",
            "        [255,  29,  61]])\n"
          ]
        }
      ]
    },
    {
      "cell_type": "code",
      "source": [
        "plt.xticks([]), plt.yticks([])\n",
        "plt.imshow(I, cmap = 'gray', vmin = 0, vmax = 255)\n",
        "plt.show()"
      ],
      "metadata": {
        "id": "U61IxgYPJJ9q",
        "outputId": "a9376a0a-4f90-4224-c04d-ce728c2140a0",
        "colab": {
          "base_uri": "https://localhost:8080/",
          "height": 406
        }
      },
      "execution_count": 14,
      "outputs": [
        {
          "output_type": "display_data",
          "data": {
            "text/plain": [
              "<Figure size 640x480 with 1 Axes>"
            ],
            "image/png": "[encoded data removed]"
          },
          "metadata": {}
        }
      ]
    },
    {
      "cell_type": "code",
      "source": [
        "plt.xticks([]), plt.yticks([])\n",
        "plt.imshow(G, cmap = 'gray', vmin = 0, vmax = 255)\n",
        "plt.show()"
      ],
      "metadata": {
        "id": "gQndHEzHJLhh",
        "outputId": "03542907-875d-4a88-fc39-f7372cc9c64a",
        "colab": {
          "base_uri": "https://localhost:8080/",
          "height": 406
        }
      },
      "execution_count": 15,
      "outputs": [
        {
          "output_type": "display_data",
          "data": {
            "text/plain": [
              "<Figure size 640x480 with 1 Axes>"
            ],
            "image/png": "[encoded data removed]"
          },
          "metadata": {}
        }
      ]
    },
    {
      "cell_type": "code",
      "source": [
        "import torch        #흑백 이미지의 상하로 대칭 이동의 코드 표현 실습URL링크\n",
        "import matplotlib.pyplot as plt"
      ],
      "metadata": {
        "id": "lGaSej3UJNJi"
      },
      "execution_count": 16,
      "outputs": []
    },
    {
      "cell_type": "code",
      "source": [
        "G = torch.tensor([[255, 114, 140],\n",
        "                  [39, 255, 46],\n",
        "                  [61, 29, 255]])\n",
        "\n",
        "H = torch.tensor([[0, 0, 1],\n",
        "                  [0, 1, 0],\n",
        "                  [1, 0, 0]])\n",
        "\n",
        "I = H @ G\n",
        "print(I)"
      ],
      "metadata": {
        "id": "a2Or-mWQJWrG",
        "outputId": "3554f5fd-a04e-4370-ab24-f53db245eff8",
        "colab": {
          "base_uri": "https://localhost:8080/"
        }
      },
      "execution_count": 17,
      "outputs": [
        {
          "output_type": "stream",
          "name": "stdout",
          "text": [
            "tensor([[ 61,  29, 255],\n",
            "        [ 39, 255,  46],\n",
            "        [255, 114, 140]])\n"
          ]
        }
      ]
    },
    {
      "cell_type": "code",
      "source": [
        "plt.xticks([]), plt.yticks([])\n",
        "plt.imshow(I, cmap = 'gray', vmin = 0, vmax = 255)\n",
        "plt.show()"
      ],
      "metadata": {
        "id": "SnQlFc-BJXE1",
        "outputId": "fb7e4b44-c91f-483f-dae2-a09743734331",
        "colab": {
          "base_uri": "https://localhost:8080/",
          "height": 406
        }
      },
      "execution_count": 18,
      "outputs": [
        {
          "output_type": "display_data",
          "data": {
            "text/plain": [
              "<Figure size 640x480 with 1 Axes>"
            ],
            "image/png": "[encoded data removed]"
          },
          "metadata": {}
        }
      ]
    },
    {
      "cell_type": "code",
      "source": [
        "plt.xticks([]), plt.yticks([])\n",
        "plt.imshow(G, cmap = 'gray', vmin = 0, vmax = 255)\n",
        "plt.show()"
      ],
      "metadata": {
        "id": "usZs1kB7JYgK",
        "outputId": "708bb3b8-a11b-4806-aefe-e0723c32a2ab",
        "colab": {
          "base_uri": "https://localhost:8080/",
          "height": 406
        }
      },
      "execution_count": 20,
      "outputs": [
        {
          "output_type": "display_data",
          "data": {
            "text/plain": [
              "<Figure size 640x480 with 1 Axes>"
            ],
            "image/png": "[encoded data removed]"
          },
          "metadata": {}
        }
      ]
    },
    {
      "cell_type": "code",
      "source": [],
      "metadata": {
        "id": "Vy5JvvaXJa_z"
      },
      "execution_count": null,
      "outputs": []
    }
  ]
}