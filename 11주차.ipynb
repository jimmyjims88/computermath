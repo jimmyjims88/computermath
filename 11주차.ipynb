{
  "nbformat": 4,
  "nbformat_minor": 0,
  "metadata": {
    "colab": {
      "provenance": [],
      "include_colab_link": true
    },
    "kernelspec": {
      "name": "python3",
      "display_name": "Python 3"
    },
    "language_info": {
      "name": "python"
    }
  },
  "cells": [
    {
      "cell_type": "markdown",
      "metadata": {
        "id": "view-in-github",
        "colab_type": "text"
      },
      "source": [
        "<a href=\"https://colab.research.google.com/github/jimmyjims88/computermath/blob/%EC%BD%94%EB%94%A9%EC%8B%A4%EC%8A%B5/11%EC%A3%BC%EC%B0%A8.ipynb\" target=\"_parent\"><img src=\"https://colab.research.google.com/assets/colab-badge.svg\" alt=\"Open In Colab\"/></a>"
      ]
    },
    {
      "cell_type": "code",
      "execution_count": 1,
      "metadata": {
        "colab": {
          "base_uri": "https://localhost:8080/"
        },
        "id": "5qBKGFgCXv-L",
        "outputId": "362487f4-32ff-4e2d-84cd-298e7aff6ea9"
      },
      "outputs": [
        {
          "output_type": "stream",
          "name": "stdout",
          "text": [
            "[(1, 2), (1, 3), (1, 4), (2, 1), (2, 3), (2, 4), (3, 1), (3, 2), (3, 4), (4, 1), (4, 2), (4, 3)]\n"
          ]
        },
        {
          "output_type": "execute_result",
          "data": {
            "text/plain": [
              "12"
            ]
          },
          "metadata": {},
          "execution_count": 1
        }
      ],
      "source": [
        "import itertools\n",
        "\n",
        "# 1, 2, 3, 4 숫자가 적힌 카드가 있다\n",
        "\n",
        "lists = [1, 2, 3, 4]\n",
        "\n",
        "# 카드 중 두 장 꺼내는 경우\n",
        "\n",
        "a = list(itertools.permutations(lists, 2))\n",
        "\n",
        "print(a)\n",
        "\n",
        "len(a)"
      ]
    },
    {
      "cell_type": "code",
      "source": [
        "import itertools\n",
        "\n",
        "cards = [1, 2, 3, 4]\n",
        "\n",
        "b = list(itertools.combinations(cards, 2))\n",
        "\n",
        "print(b)\n",
        "\n",
        "len(b)"
      ],
      "metadata": {
        "id": "T9T2WYmjgrc8",
        "outputId": "c9a55ae6-4598-455e-abac-f5eeefe6adda",
        "colab": {
          "base_uri": "https://localhost:8080/"
        }
      },
      "execution_count": 2,
      "outputs": [
        {
          "output_type": "stream",
          "name": "stdout",
          "text": [
            "[(1, 2), (1, 3), (1, 4), (2, 3), (2, 4), (3, 4)]\n"
          ]
        },
        {
          "output_type": "execute_result",
          "data": {
            "text/plain": [
              "6"
            ]
          },
          "metadata": {},
          "execution_count": 2
        }
      ]
    },
    {
      "cell_type": "code",
      "source": [],
      "metadata": {
        "id": "-bF2RY1mgsly"
      },
      "execution_count": null,
      "outputs": []
    }
  ]
}