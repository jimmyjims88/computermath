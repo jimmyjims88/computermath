{
  "nbformat": 4,
  "nbformat_minor": 0,
  "metadata": {
    "colab": {
      "provenance": [],
      "include_colab_link": true
    },
    "kernelspec": {
      "name": "python3",
      "display_name": "Python 3"
    },
    "language_info": {
      "name": "python"
    }
  },
  "cells": [
    {
      "cell_type": "markdown",
      "metadata": {
        "id": "view-in-github",
        "colab_type": "text"
      },
      "source": [
        "<a href=\"https://colab.research.google.com/github/jimmyjims88/computermath/blob/2%EC%A3%BC%EC%B0%A8/%EC%9D%B8%EC%88%98%EB%B6%84%ED%95%B4_%EC%8B%A4%EC%8A%B5_ipynb%EC%9D%98_%EC%82%AC%EB%B3%B8.ipynb\" target=\"_parent\"><img src=\"https://colab.research.google.com/assets/colab-badge.svg\" alt=\"Open In Colab\"/></a>"
      ]
    },
    {
      "cell_type": "code",
      "source": [
        "from sympy import expand, factor, Symbol#인수분해 실습\n",
        "x = Symbol('x')"
      ],
      "metadata": {
        "id": "EjlyxvDHU7je"
      },
      "execution_count": 1,
      "outputs": []
    },
    {
      "cell_type": "code",
      "source": [
        "expand((x + 2) * (x + 3))"
      ],
      "metadata": {
        "colab": {
          "base_uri": "https://localhost:8080/",
          "height": 38
        },
        "id": "teXY8cWGVZlT",
        "outputId": "d14386e4-5786-4ec8-a70c-1324979d9782"
      },
      "execution_count": 2,
      "outputs": [
        {
          "output_type": "execute_result",
          "data": {
            "text/plain": [
              "x**2 + 5*x + 6"
            ],
            "text/latex": "$\\displaystyle x^{2} + 5 x + 6$"
          },
          "metadata": {},
          "execution_count": 2
        }
      ]
    },
    {
      "cell_type": "code",
      "source": [
        "factor((x ** 2 + 5 * x + 6))"
      ],
      "metadata": {
        "colab": {
          "base_uri": "https://localhost:8080/",
          "height": 38
        },
        "id": "5dFWS3pdVtjV",
        "outputId": "08bcde26-8454-458f-d883-fcd157879f75"
      },
      "execution_count": 3,
      "outputs": [
        {
          "output_type": "execute_result",
          "data": {
            "text/plain": [
              "(x + 2)*(x + 3)"
            ],
            "text/latex": "$\\displaystyle \\left(x + 2\\right) \\left(x + 3\\right)$"
          },
          "metadata": {},
          "execution_count": 3
        }
      ]
    },
    {
      "cell_type": "code",
      "source": [
        "import math #지수함수 실습"
      ],
      "metadata": {
        "id": "A1QGu9pQddJo"
      },
      "execution_count": 4,
      "outputs": []
    },
    {
      "cell_type": "code",
      "source": [
        "a = math.pow(2, 6) #2의 6승\n",
        "print(a)"
      ],
      "metadata": {
        "id": "hPTWgNd6dfds",
        "outputId": "79b5ee19-f7c6-48d2-f5fa-612179acc4db",
        "colab": {
          "base_uri": "https://localhost:8080/"
        }
      },
      "execution_count": 6,
      "outputs": [
        {
          "output_type": "stream",
          "name": "stdout",
          "text": [
            "64.0\n"
          ]
        }
      ]
    },
    {
      "cell_type": "code",
      "source": [
        "b = math.sqrt(3)  #루트 3\n",
        "print(b)"
      ],
      "metadata": {
        "id": "FmyYgL1JdhQ2",
        "outputId": "9b30dd38-00d2-4776-ee64-0d56b172bfd9",
        "colab": {
          "base_uri": "https://localhost:8080/"
        }
      },
      "execution_count": 8,
      "outputs": [
        {
          "output_type": "stream",
          "name": "stdout",
          "text": [
            "1.7320508075688772\n"
          ]
        }
      ]
    },
    {
      "cell_type": "code",
      "source": [
        "c = math.exp(3) #자연상수 e의 3제곱\n",
        "print(c)"
      ],
      "metadata": {
        "id": "_mK0A1AUdmQf",
        "outputId": "bb7e17ae-de36-44e9-f645-f9660d88512e",
        "colab": {
          "base_uri": "https://localhost:8080/"
        }
      },
      "execution_count": 10,
      "outputs": [
        {
          "output_type": "stream",
          "name": "stdout",
          "text": [
            "20.085536923187668\n"
          ]
        }
      ]
    },
    {
      "cell_type": "code",
      "source": [
        "import math #로그함수 실습"
      ],
      "metadata": {
        "id": "1qI_bdhudpKP"
      },
      "execution_count": 11,
      "outputs": []
    },
    {
      "cell_type": "code",
      "source": [
        "d = math.log(8, 2) #로그 2의 8\n",
        "print(d)"
      ],
      "metadata": {
        "id": "1xFVoxj7eDkw",
        "outputId": "1dcc9a0b-2088-4ceb-bed7-c4b54ead34ab",
        "colab": {
          "base_uri": "https://localhost:8080/"
        }
      },
      "execution_count": 12,
      "outputs": [
        {
          "output_type": "stream",
          "name": "stdout",
          "text": [
            "3.0\n"
          ]
        }
      ]
    },
    {
      "cell_type": "code",
      "source": [
        "e = math.log(3, 9) #로그 9의 3\n",
        "print(e)"
      ],
      "metadata": {
        "id": "ejssGBOkeI6-",
        "outputId": "6351900c-82d1-47ef-f6e3-a0852476e18c",
        "colab": {
          "base_uri": "https://localhost:8080/"
        }
      },
      "execution_count": 14,
      "outputs": [
        {
          "output_type": "stream",
          "name": "stdout",
          "text": [
            "0.5\n"
          ]
        }
      ]
    },
    {
      "cell_type": "code",
      "source": [],
      "metadata": {
        "id": "VEIMV-FueLYm"
      },
      "execution_count": null,
      "outputs": []
    }
  ]
}