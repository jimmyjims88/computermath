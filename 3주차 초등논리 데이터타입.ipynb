{
  "nbformat": 4,
  "nbformat_minor": 0,
  "metadata": {
    "colab": {
      "provenance": [],
      "include_colab_link": true
    },
    "kernelspec": {
      "name": "python3",
      "display_name": "Python 3"
    },
    "language_info": {
      "name": "python"
    }
  },
  "cells": [
    {
      "cell_type": "markdown",
      "metadata": {
        "id": "view-in-github",
        "colab_type": "text"
      },
      "source": [
        "<a href=\"https://colab.research.google.com/github/jimmyjims88/computermath/blob/%EC%BD%94%EB%94%A9%EC%8B%A4%EC%8A%B5/3%EC%A3%BC%EC%B0%A8%20%EC%B4%88%EB%93%B1%EB%85%BC%EB%A6%AC%20%EB%8D%B0%EC%9D%B4%ED%84%B0%ED%83%80%EC%9E%85.ipynb\" target=\"_parent\"><img src=\"https://colab.research.google.com/assets/colab-badge.svg\" alt=\"Open In Colab\"/></a>"
      ]
    },
    {
      "cell_type": "code",
      "source": [
        "import torch                    #논리곱(AND) 코딩"
      ],
      "metadata": {
        "id": "Ar8ewl_LqecP"
      },
      "execution_count": 1,
      "outputs": []
    },
    {
      "cell_type": "code",
      "source": [
        "x = torch.tensor([True, True, False, False])\n",
        "y = torch.tensor([True, False, True, False])\n",
        "\n",
        "print(torch.logical_and(x, y))"
      ],
      "metadata": {
        "colab": {
          "base_uri": "https://localhost:8080/"
        },
        "id": "2KSnN3hOqxZ4",
        "outputId": "2beed9d4-4222-4b25-899e-09e892d8b18c"
      },
      "execution_count": null,
      "outputs": [
        {
          "output_type": "stream",
          "name": "stdout",
          "text": [
            "tensor([ True, False, False, False])\n"
          ]
        }
      ]
    },
    {
      "cell_type": "code",
      "source": [
        "import torch    #논리합(OR) 코딩"
      ],
      "metadata": {
        "id": "n4OeoUVEl1Bk"
      },
      "execution_count": 2,
      "outputs": []
    },
    {
      "cell_type": "code",
      "source": [
        "x = torch.tensor([True, True, False, False])\n",
        "y = torch.tensor([True, False, True, False])\n",
        "\n",
        "print(torch.logical_or(x, y))"
      ],
      "metadata": {
        "id": "Ve5jI04tmGEs",
        "outputId": "e96577bb-2987-47da-9db0-67b49f720831",
        "colab": {
          "base_uri": "https://localhost:8080/"
        }
      },
      "execution_count": 3,
      "outputs": [
        {
          "output_type": "stream",
          "name": "stdout",
          "text": [
            "tensor([ True,  True,  True, False])\n"
          ]
        }
      ]
    },
    {
      "cell_type": "code",
      "source": [
        "import torch    # 배타적 논리합(XOR) 코딩"
      ],
      "metadata": {
        "id": "jqwUl_PCmGZL"
      },
      "execution_count": 4,
      "outputs": []
    },
    {
      "cell_type": "code",
      "source": [
        "x = torch.tensor([True, True, False, False])\n",
        "y = torch.tensor([True, False, True, False])\n",
        "\n",
        "print(torch.logical_xor(x, y))"
      ],
      "metadata": {
        "id": "T3NDTTxzmNPA",
        "outputId": "ec1b7e17-095f-4566-ac83-2e2529e13708",
        "colab": {
          "base_uri": "https://localhost:8080/"
        }
      },
      "execution_count": 5,
      "outputs": [
        {
          "output_type": "stream",
          "name": "stdout",
          "text": [
            "tensor([False,  True,  True, False])\n"
          ]
        }
      ]
    },
    {
      "cell_type": "code",
      "source": [
        "import torch    #정수형 데이터 타입 코딩"
      ],
      "metadata": {
        "id": "Nw8H7fzMmOoo"
      },
      "execution_count": 6,
      "outputs": []
    },
    {
      "cell_type": "code",
      "source": [
        "a = torch.tensor(1, dtype = torch.uint8) #8비트 (부호없는)\n",
        "print(a)"
      ],
      "metadata": {
        "id": "WWlV8RHimWMd",
        "outputId": "098d4aba-fc5f-429e-8051-288f3fa38eeb",
        "colab": {
          "base_uri": "https://localhost:8080/"
        }
      },
      "execution_count": 7,
      "outputs": [
        {
          "output_type": "stream",
          "name": "stdout",
          "text": [
            "tensor(1, dtype=torch.uint8)\n"
          ]
        }
      ]
    },
    {
      "cell_type": "markdown",
      "source": [],
      "metadata": {
        "id": "EmjA51ylzVM_"
      }
    },
    {
      "cell_type": "code",
      "source": [
        "b = torch.tensor(-1, dtype = torch.int8)  #8비트 부호를 사용\n",
        "print(b)"
      ],
      "metadata": {
        "id": "5CX9Ai7bmXUn",
        "outputId": "b9310045-08e8-43e0-a496-7e11ca3a1bc4",
        "colab": {
          "base_uri": "https://localhost:8080/"
        }
      },
      "execution_count": 8,
      "outputs": [
        {
          "output_type": "stream",
          "name": "stdout",
          "text": [
            "tensor(-1, dtype=torch.int8)\n"
          ]
        }
      ]
    },
    {
      "cell_type": "code",
      "source": [
        "b = torch.tensor(-2, dtype = torch.uint8)\n",
        "print(b)"
      ],
      "metadata": {
        "id": "IJZuA0ksmZCu",
        "outputId": "20b16b38-aeaa-4993-c1a1-2bf4a9059910",
        "colab": {
          "base_uri": "https://localhost:8080/"
        }
      },
      "execution_count": 9,
      "outputs": [
        {
          "output_type": "stream",
          "name": "stdout",
          "text": [
            "tensor(254, dtype=torch.uint8)\n"
          ]
        }
      ]
    },
    {
      "cell_type": "code",
      "source": [
        "c = torch.tensor(-1, dtype = torch.short) #16비트(16개의 이진자리스) 부호를 사용하여 (-32.768~32.767개)\n",
        "print(c)"
      ],
      "metadata": {
        "id": "NsEhCQujyxEm",
        "outputId": "7a9b3844-2a82-4865-abd3-3b6e267aca47",
        "colab": {
          "base_uri": "https://localhost:8080/"
        }
      },
      "execution_count": 10,
      "outputs": [
        {
          "output_type": "stream",
          "name": "stdout",
          "text": [
            "tensor(-1, dtype=torch.int16)\n"
          ]
        }
      ]
    },
    {
      "cell_type": "code",
      "source": [
        "d = torch.tensor(-1, dtype = torch.int)\n",
        "print(d)"
      ],
      "metadata": {
        "id": "Xn9OfS3qyxwH",
        "outputId": "c71a3247-ca0a-4b21-ded9-61d72f1e8c8c",
        "colab": {
          "base_uri": "https://localhost:8080/"
        }
      },
      "execution_count": 12,
      "outputs": [
        {
          "output_type": "stream",
          "name": "stdout",
          "text": [
            "tensor(-1, dtype=torch.int32)\n"
          ]
        }
      ]
    },
    {
      "cell_type": "code",
      "source": [
        "e = torch.tensor(-1, dtype = torch.long)\n",
        "print(e)\n",
        "print(e.dtype)"
      ],
      "metadata": {
        "id": "4RXPjv_jy1K7",
        "outputId": "549c98a8-4910-4539-b6fd-49d453c673ee",
        "colab": {
          "base_uri": "https://localhost:8080/"
        }
      },
      "execution_count": 13,
      "outputs": [
        {
          "output_type": "stream",
          "name": "stdout",
          "text": [
            "tensor(-1)\n",
            "torch.int64\n"
          ]
        }
      ]
    },
    {
      "cell_type": "code",
      "source": [],
      "metadata": {
        "id": "5IJtDKH3y1j3"
      },
      "execution_count": null,
      "outputs": []
    }
  ]
}