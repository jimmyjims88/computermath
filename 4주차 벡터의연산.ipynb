{
  "nbformat": 4,
  "nbformat_minor": 0,
  "metadata": {
    "colab": {
      "provenance": [],
      "include_colab_link": true
    },
    "kernelspec": {
      "name": "python3",
      "display_name": "Python 3"
    },
    "language_info": {
      "name": "python"
    }
  },
  "cells": [
    {
      "cell_type": "markdown",
      "metadata": {
        "id": "view-in-github",
        "colab_type": "text"
      },
      "source": [
        "<a href=\"https://colab.research.google.com/github/jimmyjims88/computermath/blob/%EC%BD%94%EB%94%A9%EC%8B%A4%EC%8A%B5/4%EC%A3%BC%EC%B0%A8%20%EB%B2%A1%ED%84%B0%EC%9D%98%EC%97%B0%EC%82%B0.ipynb\" target=\"_parent\"><img src=\"https://colab.research.google.com/assets/colab-badge.svg\" alt=\"Open In Colab\"/></a>"
      ]
    },
    {
      "cell_type": "code",
      "source": [
        "import torch       #스칼라의 코드 표현-\n",
        "#스칼라:크기만 있고 방향이 없는 물리량, 즉 방향성을 가지지 않는 성분이다.\n",
        "\n",
        "#물리량에서의 스칼라 :물리량 중 시간, 부피, 질량, 온도, 속력, 에너지, 전위 등은 스칼라량이다.\n"
      ],
      "metadata": {
        "id": "W5j7NNaS6-3i"
      },
      "execution_count": 2,
      "outputs": []
    },
    {
      "cell_type": "code",
      "source": [
        "a = torch.tensor(36.5)   #36.5 ->스칼라실수\n",
        "\n",
        "print(a)"
      ],
      "metadata": {
        "colab": {
          "base_uri": "https://localhost:8080/"
        },
        "id": "EP-RNzp07KJE",
        "outputId": "3edaf559-c34d-458a-84ca-f95efdd85d0f"
      },
      "execution_count": 3,
      "outputs": [
        {
          "output_type": "stream",
          "name": "stdout",
          "text": [
            "tensor(36.5000)\n"
          ]
        }
      ]
    },
    {
      "cell_type": "code",
      "source": [
        "import torch #벡터 코딩\n",
        "#벡터 :크기와 방향이 있는 물리량, 즉 크기에 방향성을 함께 고려하여야 설명이 가능한 물리량이다.\n",
        "\n",
        "#물리량에서의 벡터 :물리량 중 변위, 속도, 가속도, 힘, 운동량, 충격량, 중력장, 전기장, 자기장 등은 벡터량이다."
      ],
      "metadata": {
        "id": "LU7qqqll5uso"
      },
      "execution_count": 5,
      "outputs": []
    },
    {
      "cell_type": "code",
      "source": [
        "b = torch.tensor([175, 60, 81, 0.8, 0.9])\n",
        "\n",
        "print(b)"
      ],
      "metadata": {
        "id": "BVS9mK7C5wcC",
        "outputId": "f5ad3be6-cca0-4bbd-ce9e-8abef3a88527",
        "colab": {
          "base_uri": "https://localhost:8080/"
        }
      },
      "execution_count": 6,
      "outputs": [
        {
          "output_type": "stream",
          "name": "stdout",
          "text": [
            "tensor([175.0000,  60.0000,  81.0000,   0.8000,   0.9000])\n"
          ]
        }
      ]
    },
    {
      "cell_type": "code",
      "source": [
        "import torch  #벡터의 스칼라곱 코딩"
      ],
      "metadata": {
        "id": "qQHSCoBu6Ald"
      },
      "execution_count": 7,
      "outputs": []
    },
    {
      "cell_type": "code",
      "source": [
        "c = torch.tensor(2)\n",
        "d = torch.tensor([1, 2, 3, 4])\n",
        "\n",
        "e = torch.mul(c, d)\n",
        "\n",
        "print(e)"
      ],
      "metadata": {
        "id": "fVFuSGBF6Ld8",
        "outputId": "e1a3735f-bdbb-48f3-8dec-9e38f3760813",
        "colab": {
          "base_uri": "https://localhost:8080/"
        }
      },
      "execution_count": 8,
      "outputs": [
        {
          "output_type": "stream",
          "name": "stdout",
          "text": [
            "tensor([2, 4, 6, 8])\n"
          ]
        }
      ]
    },
    {
      "cell_type": "code",
      "source": [
        "import torch #벡터의 합 코딩"
      ],
      "metadata": {
        "id": "tBJ3KMWn6NRb"
      },
      "execution_count": 10,
      "outputs": []
    },
    {
      "cell_type": "code",
      "source": [
        "f = torch.tensor([1, 2, 3, 4])\n",
        "g = torch.tensor([1, 3, 5, 7])\n",
        "\n",
        "h = torch.add(f, g)\n",
        "\n",
        "print(h)"
      ],
      "metadata": {
        "id": "6SYSde_96V7d",
        "outputId": "d4869b01-2dae-4062-c99f-4435e35623eb",
        "colab": {
          "base_uri": "https://localhost:8080/"
        }
      },
      "execution_count": 11,
      "outputs": [
        {
          "output_type": "stream",
          "name": "stdout",
          "text": [
            "tensor([ 2,  5,  8, 11])\n"
          ]
        }
      ]
    },
    {
      "cell_type": "code",
      "source": [
        "import torch #벡터의 차 코딩"
      ],
      "metadata": {
        "id": "gIcw1TP_6Wa8"
      },
      "execution_count": 12,
      "outputs": []
    },
    {
      "cell_type": "code",
      "source": [
        "i = torch.tensor([2, 4, 6, 8])\n",
        "j = torch.tensor([2, 3, 4, 5])\n",
        "\n",
        "k = torch.sub(i, j)\n",
        "\n",
        "print(k)"
      ],
      "metadata": {
        "id": "SpSb_pZn6ema",
        "outputId": "ee68a048-3a42-4150-e04c-ee5a74d4f6e9",
        "colab": {
          "base_uri": "https://localhost:8080/"
        }
      },
      "execution_count": 14,
      "outputs": [
        {
          "output_type": "stream",
          "name": "stdout",
          "text": [
            "tensor([0, 1, 2, 3])\n"
          ]
        }
      ]
    },
    {
      "cell_type": "code",
      "source": [
        "import torch #벡터의 성분곱 코딩"
      ],
      "metadata": {
        "id": "rIXIfD4f6sKX"
      },
      "execution_count": 15,
      "outputs": []
    },
    {
      "cell_type": "code",
      "source": [
        "l = torch.tensor([1, 2, 1, 3])\n",
        "m = torch.tensor([2, 3, 1, 4])\n",
        "\n",
        "n = torch.mul(l, m)\n",
        "\n",
        "print(n)"
      ],
      "metadata": {
        "id": "rEDLdxih6vub",
        "outputId": "4d82eb63-3af2-46d3-a206-79e99af59866",
        "colab": {
          "base_uri": "https://localhost:8080/"
        }
      },
      "execution_count": 17,
      "outputs": [
        {
          "output_type": "stream",
          "name": "stdout",
          "text": [
            "tensor([ 2,  6,  1, 12])\n"
          ]
        }
      ]
    },
    {
      "cell_type": "code",
      "source": [],
      "metadata": {
        "id": "1QS5qM4T87gb"
      },
      "execution_count": null,
      "outputs": []
    }
  ]
}